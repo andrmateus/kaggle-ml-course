{
 "cells": [
  {
   "cell_type": "code",
   "execution_count": 1,
   "id": "2c8191e2",
   "metadata": {
    "_cell_guid": "b1076dfc-b9ad-4769-8c92-a6c4dae69d19",
    "_uuid": "8f2839f25d086af736a60e9eeb907d3b93b6e0e5",
    "execution": {
     "iopub.execute_input": "2024-06-02T20:01:07.979419Z",
     "iopub.status.busy": "2024-06-02T20:01:07.979017Z",
     "iopub.status.idle": "2024-06-02T20:01:08.969103Z",
     "shell.execute_reply": "2024-06-02T20:01:08.967793Z"
    },
    "papermill": {
     "duration": 1.001725,
     "end_time": "2024-06-02T20:01:08.971442",
     "exception": false,
     "start_time": "2024-06-02T20:01:07.969717",
     "status": "completed"
    },
    "tags": []
   },
   "outputs": [
    {
     "name": "stdout",
     "output_type": "stream",
     "text": [
      "/kaggle/input/melbourne-housing-snapshot/melb_data.csv\n"
     ]
    }
   ],
   "source": [
    "# This Python 3 environment comes with many helpful analytics libraries installed\n",
    "# It is defined by the kaggle/python Docker image: https://github.com/kaggle/docker-python\n",
    "# For example, here's several helpful packages to load\n",
    "\n",
    "import numpy as np # linear algebra\n",
    "import pandas as pd # data processing, CSV file I/O (e.g. pd.read_csv)\n",
    "\n",
    "# Input data files are available in the read-only \"../input/\" directory\n",
    "# For example, running this (by clicking run or pressing Shift+Enter) will list all files under the input directory\n",
    "\n",
    "import os\n",
    "for dirname, _, filenames in os.walk('/kaggle/input'):\n",
    "    for filename in filenames:\n",
    "        print(os.path.join(dirname, filename))\n",
    "\n",
    "# You can write up to 20GB to the current directory (/kaggle/working/) that gets preserved as output when you create a version using \"Save & Run All\" \n",
    "# You can also write temporary files to /kaggle/temp/, but they won't be saved outside of the current session"
   ]
  },
  {
   "cell_type": "code",
   "execution_count": 2,
   "id": "36415ba4",
   "metadata": {
    "execution": {
     "iopub.execute_input": "2024-06-02T20:01:08.988502Z",
     "iopub.status.busy": "2024-06-02T20:01:08.987940Z",
     "iopub.status.idle": "2024-06-02T20:01:09.173628Z",
     "shell.execute_reply": "2024-06-02T20:01:09.172453Z"
    },
    "papermill": {
     "duration": 0.196888,
     "end_time": "2024-06-02T20:01:09.176218",
     "exception": false,
     "start_time": "2024-06-02T20:01:08.979330",
     "status": "completed"
    },
    "tags": []
   },
   "outputs": [
    {
     "data": {
      "text/html": [
       "<div>\n",
       "<style scoped>\n",
       "    .dataframe tbody tr th:only-of-type {\n",
       "        vertical-align: middle;\n",
       "    }\n",
       "\n",
       "    .dataframe tbody tr th {\n",
       "        vertical-align: top;\n",
       "    }\n",
       "\n",
       "    .dataframe thead th {\n",
       "        text-align: right;\n",
       "    }\n",
       "</style>\n",
       "<table border=\"1\" class=\"dataframe\">\n",
       "  <thead>\n",
       "    <tr style=\"text-align: right;\">\n",
       "      <th></th>\n",
       "      <th>Rooms</th>\n",
       "      <th>Price</th>\n",
       "      <th>Distance</th>\n",
       "      <th>Postcode</th>\n",
       "      <th>Bedroom2</th>\n",
       "      <th>Bathroom</th>\n",
       "      <th>Car</th>\n",
       "      <th>Landsize</th>\n",
       "      <th>BuildingArea</th>\n",
       "      <th>YearBuilt</th>\n",
       "      <th>Lattitude</th>\n",
       "      <th>Longtitude</th>\n",
       "      <th>Propertycount</th>\n",
       "    </tr>\n",
       "  </thead>\n",
       "  <tbody>\n",
       "    <tr>\n",
       "      <th>count</th>\n",
       "      <td>13580.000000</td>\n",
       "      <td>1.358000e+04</td>\n",
       "      <td>13580.000000</td>\n",
       "      <td>13580.000000</td>\n",
       "      <td>13580.000000</td>\n",
       "      <td>13580.000000</td>\n",
       "      <td>13518.000000</td>\n",
       "      <td>13580.000000</td>\n",
       "      <td>7130.000000</td>\n",
       "      <td>8205.000000</td>\n",
       "      <td>13580.000000</td>\n",
       "      <td>13580.000000</td>\n",
       "      <td>13580.000000</td>\n",
       "    </tr>\n",
       "    <tr>\n",
       "      <th>mean</th>\n",
       "      <td>2.937997</td>\n",
       "      <td>1.075684e+06</td>\n",
       "      <td>10.137776</td>\n",
       "      <td>3105.301915</td>\n",
       "      <td>2.914728</td>\n",
       "      <td>1.534242</td>\n",
       "      <td>1.610075</td>\n",
       "      <td>558.416127</td>\n",
       "      <td>151.967650</td>\n",
       "      <td>1964.684217</td>\n",
       "      <td>-37.809203</td>\n",
       "      <td>144.995216</td>\n",
       "      <td>7454.417378</td>\n",
       "    </tr>\n",
       "    <tr>\n",
       "      <th>std</th>\n",
       "      <td>0.955748</td>\n",
       "      <td>6.393107e+05</td>\n",
       "      <td>5.868725</td>\n",
       "      <td>90.676964</td>\n",
       "      <td>0.965921</td>\n",
       "      <td>0.691712</td>\n",
       "      <td>0.962634</td>\n",
       "      <td>3990.669241</td>\n",
       "      <td>541.014538</td>\n",
       "      <td>37.273762</td>\n",
       "      <td>0.079260</td>\n",
       "      <td>0.103916</td>\n",
       "      <td>4378.581772</td>\n",
       "    </tr>\n",
       "    <tr>\n",
       "      <th>min</th>\n",
       "      <td>1.000000</td>\n",
       "      <td>8.500000e+04</td>\n",
       "      <td>0.000000</td>\n",
       "      <td>3000.000000</td>\n",
       "      <td>0.000000</td>\n",
       "      <td>0.000000</td>\n",
       "      <td>0.000000</td>\n",
       "      <td>0.000000</td>\n",
       "      <td>0.000000</td>\n",
       "      <td>1196.000000</td>\n",
       "      <td>-38.182550</td>\n",
       "      <td>144.431810</td>\n",
       "      <td>249.000000</td>\n",
       "    </tr>\n",
       "    <tr>\n",
       "      <th>25%</th>\n",
       "      <td>2.000000</td>\n",
       "      <td>6.500000e+05</td>\n",
       "      <td>6.100000</td>\n",
       "      <td>3044.000000</td>\n",
       "      <td>2.000000</td>\n",
       "      <td>1.000000</td>\n",
       "      <td>1.000000</td>\n",
       "      <td>177.000000</td>\n",
       "      <td>93.000000</td>\n",
       "      <td>1940.000000</td>\n",
       "      <td>-37.856822</td>\n",
       "      <td>144.929600</td>\n",
       "      <td>4380.000000</td>\n",
       "    </tr>\n",
       "    <tr>\n",
       "      <th>50%</th>\n",
       "      <td>3.000000</td>\n",
       "      <td>9.030000e+05</td>\n",
       "      <td>9.200000</td>\n",
       "      <td>3084.000000</td>\n",
       "      <td>3.000000</td>\n",
       "      <td>1.000000</td>\n",
       "      <td>2.000000</td>\n",
       "      <td>440.000000</td>\n",
       "      <td>126.000000</td>\n",
       "      <td>1970.000000</td>\n",
       "      <td>-37.802355</td>\n",
       "      <td>145.000100</td>\n",
       "      <td>6555.000000</td>\n",
       "    </tr>\n",
       "    <tr>\n",
       "      <th>75%</th>\n",
       "      <td>3.000000</td>\n",
       "      <td>1.330000e+06</td>\n",
       "      <td>13.000000</td>\n",
       "      <td>3148.000000</td>\n",
       "      <td>3.000000</td>\n",
       "      <td>2.000000</td>\n",
       "      <td>2.000000</td>\n",
       "      <td>651.000000</td>\n",
       "      <td>174.000000</td>\n",
       "      <td>1999.000000</td>\n",
       "      <td>-37.756400</td>\n",
       "      <td>145.058305</td>\n",
       "      <td>10331.000000</td>\n",
       "    </tr>\n",
       "    <tr>\n",
       "      <th>max</th>\n",
       "      <td>10.000000</td>\n",
       "      <td>9.000000e+06</td>\n",
       "      <td>48.100000</td>\n",
       "      <td>3977.000000</td>\n",
       "      <td>20.000000</td>\n",
       "      <td>8.000000</td>\n",
       "      <td>10.000000</td>\n",
       "      <td>433014.000000</td>\n",
       "      <td>44515.000000</td>\n",
       "      <td>2018.000000</td>\n",
       "      <td>-37.408530</td>\n",
       "      <td>145.526350</td>\n",
       "      <td>21650.000000</td>\n",
       "    </tr>\n",
       "  </tbody>\n",
       "</table>\n",
       "</div>"
      ],
      "text/plain": [
       "              Rooms         Price      Distance      Postcode      Bedroom2  \\\n",
       "count  13580.000000  1.358000e+04  13580.000000  13580.000000  13580.000000   \n",
       "mean       2.937997  1.075684e+06     10.137776   3105.301915      2.914728   \n",
       "std        0.955748  6.393107e+05      5.868725     90.676964      0.965921   \n",
       "min        1.000000  8.500000e+04      0.000000   3000.000000      0.000000   \n",
       "25%        2.000000  6.500000e+05      6.100000   3044.000000      2.000000   \n",
       "50%        3.000000  9.030000e+05      9.200000   3084.000000      3.000000   \n",
       "75%        3.000000  1.330000e+06     13.000000   3148.000000      3.000000   \n",
       "max       10.000000  9.000000e+06     48.100000   3977.000000     20.000000   \n",
       "\n",
       "           Bathroom           Car       Landsize  BuildingArea    YearBuilt  \\\n",
       "count  13580.000000  13518.000000   13580.000000   7130.000000  8205.000000   \n",
       "mean       1.534242      1.610075     558.416127    151.967650  1964.684217   \n",
       "std        0.691712      0.962634    3990.669241    541.014538    37.273762   \n",
       "min        0.000000      0.000000       0.000000      0.000000  1196.000000   \n",
       "25%        1.000000      1.000000     177.000000     93.000000  1940.000000   \n",
       "50%        1.000000      2.000000     440.000000    126.000000  1970.000000   \n",
       "75%        2.000000      2.000000     651.000000    174.000000  1999.000000   \n",
       "max        8.000000     10.000000  433014.000000  44515.000000  2018.000000   \n",
       "\n",
       "          Lattitude    Longtitude  Propertycount  \n",
       "count  13580.000000  13580.000000   13580.000000  \n",
       "mean     -37.809203    144.995216    7454.417378  \n",
       "std        0.079260      0.103916    4378.581772  \n",
       "min      -38.182550    144.431810     249.000000  \n",
       "25%      -37.856822    144.929600    4380.000000  \n",
       "50%      -37.802355    145.000100    6555.000000  \n",
       "75%      -37.756400    145.058305   10331.000000  \n",
       "max      -37.408530    145.526350   21650.000000  "
      ]
     },
     "execution_count": 2,
     "metadata": {},
     "output_type": "execute_result"
    }
   ],
   "source": [
    "melbourne_file_path = '/kaggle/input/melbourne-housing-snapshot/melb_data.csv'\n",
    "\n",
    "melbourne_file = pd.read_csv(melbourne_file_path)\n",
    "\n",
    "melbourne_file.describe()"
   ]
  },
  {
   "cell_type": "code",
   "execution_count": 3,
   "id": "c5582293",
   "metadata": {
    "execution": {
     "iopub.execute_input": "2024-06-02T20:01:09.193153Z",
     "iopub.status.busy": "2024-06-02T20:01:09.192726Z",
     "iopub.status.idle": "2024-06-02T20:01:09.217275Z",
     "shell.execute_reply": "2024-06-02T20:01:09.216036Z"
    },
    "papermill": {
     "duration": 0.036183,
     "end_time": "2024-06-02T20:01:09.219936",
     "exception": false,
     "start_time": "2024-06-02T20:01:09.183753",
     "status": "completed"
    },
    "tags": []
   },
   "outputs": [],
   "source": [
    "melbourne_data = melbourne_file.dropna(axis=0)"
   ]
  },
  {
   "cell_type": "code",
   "execution_count": 4,
   "id": "a5fd3623",
   "metadata": {
    "execution": {
     "iopub.execute_input": "2024-06-02T20:01:09.237107Z",
     "iopub.status.busy": "2024-06-02T20:01:09.236669Z",
     "iopub.status.idle": "2024-06-02T20:01:09.244068Z",
     "shell.execute_reply": "2024-06-02T20:01:09.242926Z"
    },
    "papermill": {
     "duration": 0.018986,
     "end_time": "2024-06-02T20:01:09.246640",
     "exception": false,
     "start_time": "2024-06-02T20:01:09.227654",
     "status": "completed"
    },
    "tags": []
   },
   "outputs": [
    {
     "data": {
      "text/plain": [
       "Index(['Suburb', 'Address', 'Rooms', 'Type', 'Price', 'Method', 'SellerG',\n",
       "       'Date', 'Distance', 'Postcode', 'Bedroom2', 'Bathroom', 'Car',\n",
       "       'Landsize', 'BuildingArea', 'YearBuilt', 'CouncilArea', 'Lattitude',\n",
       "       'Longtitude', 'Regionname', 'Propertycount'],\n",
       "      dtype='object')"
      ]
     },
     "execution_count": 4,
     "metadata": {},
     "output_type": "execute_result"
    }
   ],
   "source": [
    "melbourne_data.columns"
   ]
  },
  {
   "cell_type": "code",
   "execution_count": 5,
   "id": "e600d5df",
   "metadata": {
    "execution": {
     "iopub.execute_input": "2024-06-02T20:01:09.266231Z",
     "iopub.status.busy": "2024-06-02T20:01:09.265407Z",
     "iopub.status.idle": "2024-06-02T20:01:09.272341Z",
     "shell.execute_reply": "2024-06-02T20:01:09.271250Z"
    },
    "papermill": {
     "duration": 0.020276,
     "end_time": "2024-06-02T20:01:09.274800",
     "exception": false,
     "start_time": "2024-06-02T20:01:09.254524",
     "status": "completed"
    },
    "tags": []
   },
   "outputs": [],
   "source": [
    "y = melbourne_data.Price\n",
    "\n",
    "melbourne_features = ['Rooms', 'Bathroom', 'Landsize', 'Lattitude', 'Longtitude']\n",
    "\n",
    "X = melbourne_data[melbourne_features]"
   ]
  },
  {
   "cell_type": "code",
   "execution_count": 6,
   "id": "d811d61b",
   "metadata": {
    "execution": {
     "iopub.execute_input": "2024-06-02T20:01:09.291975Z",
     "iopub.status.busy": "2024-06-02T20:01:09.291544Z",
     "iopub.status.idle": "2024-06-02T20:01:09.318891Z",
     "shell.execute_reply": "2024-06-02T20:01:09.317787Z"
    },
    "papermill": {
     "duration": 0.039022,
     "end_time": "2024-06-02T20:01:09.321515",
     "exception": false,
     "start_time": "2024-06-02T20:01:09.282493",
     "status": "completed"
    },
    "tags": []
   },
   "outputs": [
    {
     "data": {
      "text/html": [
       "<div>\n",
       "<style scoped>\n",
       "    .dataframe tbody tr th:only-of-type {\n",
       "        vertical-align: middle;\n",
       "    }\n",
       "\n",
       "    .dataframe tbody tr th {\n",
       "        vertical-align: top;\n",
       "    }\n",
       "\n",
       "    .dataframe thead th {\n",
       "        text-align: right;\n",
       "    }\n",
       "</style>\n",
       "<table border=\"1\" class=\"dataframe\">\n",
       "  <thead>\n",
       "    <tr style=\"text-align: right;\">\n",
       "      <th></th>\n",
       "      <th>Rooms</th>\n",
       "      <th>Bathroom</th>\n",
       "      <th>Landsize</th>\n",
       "      <th>Lattitude</th>\n",
       "      <th>Longtitude</th>\n",
       "    </tr>\n",
       "  </thead>\n",
       "  <tbody>\n",
       "    <tr>\n",
       "      <th>count</th>\n",
       "      <td>6196.000000</td>\n",
       "      <td>6196.000000</td>\n",
       "      <td>6196.000000</td>\n",
       "      <td>6196.000000</td>\n",
       "      <td>6196.000000</td>\n",
       "    </tr>\n",
       "    <tr>\n",
       "      <th>mean</th>\n",
       "      <td>2.931407</td>\n",
       "      <td>1.576340</td>\n",
       "      <td>471.006940</td>\n",
       "      <td>-37.807904</td>\n",
       "      <td>144.990201</td>\n",
       "    </tr>\n",
       "    <tr>\n",
       "      <th>std</th>\n",
       "      <td>0.971079</td>\n",
       "      <td>0.711362</td>\n",
       "      <td>897.449881</td>\n",
       "      <td>0.075850</td>\n",
       "      <td>0.099165</td>\n",
       "    </tr>\n",
       "    <tr>\n",
       "      <th>min</th>\n",
       "      <td>1.000000</td>\n",
       "      <td>1.000000</td>\n",
       "      <td>0.000000</td>\n",
       "      <td>-38.164920</td>\n",
       "      <td>144.542370</td>\n",
       "    </tr>\n",
       "    <tr>\n",
       "      <th>25%</th>\n",
       "      <td>2.000000</td>\n",
       "      <td>1.000000</td>\n",
       "      <td>152.000000</td>\n",
       "      <td>-37.855438</td>\n",
       "      <td>144.926198</td>\n",
       "    </tr>\n",
       "    <tr>\n",
       "      <th>50%</th>\n",
       "      <td>3.000000</td>\n",
       "      <td>1.000000</td>\n",
       "      <td>373.000000</td>\n",
       "      <td>-37.802250</td>\n",
       "      <td>144.995800</td>\n",
       "    </tr>\n",
       "    <tr>\n",
       "      <th>75%</th>\n",
       "      <td>4.000000</td>\n",
       "      <td>2.000000</td>\n",
       "      <td>628.000000</td>\n",
       "      <td>-37.758200</td>\n",
       "      <td>145.052700</td>\n",
       "    </tr>\n",
       "    <tr>\n",
       "      <th>max</th>\n",
       "      <td>8.000000</td>\n",
       "      <td>8.000000</td>\n",
       "      <td>37000.000000</td>\n",
       "      <td>-37.457090</td>\n",
       "      <td>145.526350</td>\n",
       "    </tr>\n",
       "  </tbody>\n",
       "</table>\n",
       "</div>"
      ],
      "text/plain": [
       "             Rooms     Bathroom      Landsize    Lattitude   Longtitude\n",
       "count  6196.000000  6196.000000   6196.000000  6196.000000  6196.000000\n",
       "mean      2.931407     1.576340    471.006940   -37.807904   144.990201\n",
       "std       0.971079     0.711362    897.449881     0.075850     0.099165\n",
       "min       1.000000     1.000000      0.000000   -38.164920   144.542370\n",
       "25%       2.000000     1.000000    152.000000   -37.855438   144.926198\n",
       "50%       3.000000     1.000000    373.000000   -37.802250   144.995800\n",
       "75%       4.000000     2.000000    628.000000   -37.758200   145.052700\n",
       "max       8.000000     8.000000  37000.000000   -37.457090   145.526350"
      ]
     },
     "execution_count": 6,
     "metadata": {},
     "output_type": "execute_result"
    }
   ],
   "source": [
    "X.describe()"
   ]
  },
  {
   "cell_type": "code",
   "execution_count": 7,
   "id": "06e338d4",
   "metadata": {
    "execution": {
     "iopub.execute_input": "2024-06-02T20:01:09.339206Z",
     "iopub.status.busy": "2024-06-02T20:01:09.338788Z",
     "iopub.status.idle": "2024-06-02T20:01:09.353898Z",
     "shell.execute_reply": "2024-06-02T20:01:09.352461Z"
    },
    "papermill": {
     "duration": 0.027225,
     "end_time": "2024-06-02T20:01:09.356823",
     "exception": false,
     "start_time": "2024-06-02T20:01:09.329598",
     "status": "completed"
    },
    "tags": []
   },
   "outputs": [
    {
     "data": {
      "text/html": [
       "<div>\n",
       "<style scoped>\n",
       "    .dataframe tbody tr th:only-of-type {\n",
       "        vertical-align: middle;\n",
       "    }\n",
       "\n",
       "    .dataframe tbody tr th {\n",
       "        vertical-align: top;\n",
       "    }\n",
       "\n",
       "    .dataframe thead th {\n",
       "        text-align: right;\n",
       "    }\n",
       "</style>\n",
       "<table border=\"1\" class=\"dataframe\">\n",
       "  <thead>\n",
       "    <tr style=\"text-align: right;\">\n",
       "      <th></th>\n",
       "      <th>Rooms</th>\n",
       "      <th>Bathroom</th>\n",
       "      <th>Landsize</th>\n",
       "      <th>Lattitude</th>\n",
       "      <th>Longtitude</th>\n",
       "    </tr>\n",
       "  </thead>\n",
       "  <tbody>\n",
       "    <tr>\n",
       "      <th>1</th>\n",
       "      <td>2</td>\n",
       "      <td>1.0</td>\n",
       "      <td>156.0</td>\n",
       "      <td>-37.8079</td>\n",
       "      <td>144.9934</td>\n",
       "    </tr>\n",
       "    <tr>\n",
       "      <th>2</th>\n",
       "      <td>3</td>\n",
       "      <td>2.0</td>\n",
       "      <td>134.0</td>\n",
       "      <td>-37.8093</td>\n",
       "      <td>144.9944</td>\n",
       "    </tr>\n",
       "    <tr>\n",
       "      <th>4</th>\n",
       "      <td>4</td>\n",
       "      <td>1.0</td>\n",
       "      <td>120.0</td>\n",
       "      <td>-37.8072</td>\n",
       "      <td>144.9941</td>\n",
       "    </tr>\n",
       "    <tr>\n",
       "      <th>6</th>\n",
       "      <td>3</td>\n",
       "      <td>2.0</td>\n",
       "      <td>245.0</td>\n",
       "      <td>-37.8024</td>\n",
       "      <td>144.9993</td>\n",
       "    </tr>\n",
       "    <tr>\n",
       "      <th>7</th>\n",
       "      <td>2</td>\n",
       "      <td>1.0</td>\n",
       "      <td>256.0</td>\n",
       "      <td>-37.8060</td>\n",
       "      <td>144.9954</td>\n",
       "    </tr>\n",
       "  </tbody>\n",
       "</table>\n",
       "</div>"
      ],
      "text/plain": [
       "   Rooms  Bathroom  Landsize  Lattitude  Longtitude\n",
       "1      2       1.0     156.0   -37.8079    144.9934\n",
       "2      3       2.0     134.0   -37.8093    144.9944\n",
       "4      4       1.0     120.0   -37.8072    144.9941\n",
       "6      3       2.0     245.0   -37.8024    144.9993\n",
       "7      2       1.0     256.0   -37.8060    144.9954"
      ]
     },
     "execution_count": 7,
     "metadata": {},
     "output_type": "execute_result"
    }
   ],
   "source": [
    "X.head()"
   ]
  },
  {
   "cell_type": "code",
   "execution_count": 8,
   "id": "83bee729",
   "metadata": {
    "execution": {
     "iopub.execute_input": "2024-06-02T20:01:09.375272Z",
     "iopub.status.busy": "2024-06-02T20:01:09.374820Z",
     "iopub.status.idle": "2024-06-02T20:01:11.034342Z",
     "shell.execute_reply": "2024-06-02T20:01:11.033174Z"
    },
    "papermill": {
     "duration": 1.671569,
     "end_time": "2024-06-02T20:01:11.036828",
     "exception": false,
     "start_time": "2024-06-02T20:01:09.365259",
     "status": "completed"
    },
    "tags": []
   },
   "outputs": [
    {
     "data": {
      "text/html": [
       "<style>#sk-container-id-1 {color: black;background-color: white;}#sk-container-id-1 pre{padding: 0;}#sk-container-id-1 div.sk-toggleable {background-color: white;}#sk-container-id-1 label.sk-toggleable__label {cursor: pointer;display: block;width: 100%;margin-bottom: 0;padding: 0.3em;box-sizing: border-box;text-align: center;}#sk-container-id-1 label.sk-toggleable__label-arrow:before {content: \"▸\";float: left;margin-right: 0.25em;color: #696969;}#sk-container-id-1 label.sk-toggleable__label-arrow:hover:before {color: black;}#sk-container-id-1 div.sk-estimator:hover label.sk-toggleable__label-arrow:before {color: black;}#sk-container-id-1 div.sk-toggleable__content {max-height: 0;max-width: 0;overflow: hidden;text-align: left;background-color: #f0f8ff;}#sk-container-id-1 div.sk-toggleable__content pre {margin: 0.2em;color: black;border-radius: 0.25em;background-color: #f0f8ff;}#sk-container-id-1 input.sk-toggleable__control:checked~div.sk-toggleable__content {max-height: 200px;max-width: 100%;overflow: auto;}#sk-container-id-1 input.sk-toggleable__control:checked~label.sk-toggleable__label-arrow:before {content: \"▾\";}#sk-container-id-1 div.sk-estimator input.sk-toggleable__control:checked~label.sk-toggleable__label {background-color: #d4ebff;}#sk-container-id-1 div.sk-label input.sk-toggleable__control:checked~label.sk-toggleable__label {background-color: #d4ebff;}#sk-container-id-1 input.sk-hidden--visually {border: 0;clip: rect(1px 1px 1px 1px);clip: rect(1px, 1px, 1px, 1px);height: 1px;margin: -1px;overflow: hidden;padding: 0;position: absolute;width: 1px;}#sk-container-id-1 div.sk-estimator {font-family: monospace;background-color: #f0f8ff;border: 1px dotted black;border-radius: 0.25em;box-sizing: border-box;margin-bottom: 0.5em;}#sk-container-id-1 div.sk-estimator:hover {background-color: #d4ebff;}#sk-container-id-1 div.sk-parallel-item::after {content: \"\";width: 100%;border-bottom: 1px solid gray;flex-grow: 1;}#sk-container-id-1 div.sk-label:hover label.sk-toggleable__label {background-color: #d4ebff;}#sk-container-id-1 div.sk-serial::before {content: \"\";position: absolute;border-left: 1px solid gray;box-sizing: border-box;top: 0;bottom: 0;left: 50%;z-index: 0;}#sk-container-id-1 div.sk-serial {display: flex;flex-direction: column;align-items: center;background-color: white;padding-right: 0.2em;padding-left: 0.2em;position: relative;}#sk-container-id-1 div.sk-item {position: relative;z-index: 1;}#sk-container-id-1 div.sk-parallel {display: flex;align-items: stretch;justify-content: center;background-color: white;position: relative;}#sk-container-id-1 div.sk-item::before, #sk-container-id-1 div.sk-parallel-item::before {content: \"\";position: absolute;border-left: 1px solid gray;box-sizing: border-box;top: 0;bottom: 0;left: 50%;z-index: -1;}#sk-container-id-1 div.sk-parallel-item {display: flex;flex-direction: column;z-index: 1;position: relative;background-color: white;}#sk-container-id-1 div.sk-parallel-item:first-child::after {align-self: flex-end;width: 50%;}#sk-container-id-1 div.sk-parallel-item:last-child::after {align-self: flex-start;width: 50%;}#sk-container-id-1 div.sk-parallel-item:only-child::after {width: 0;}#sk-container-id-1 div.sk-dashed-wrapped {border: 1px dashed gray;margin: 0 0.4em 0.5em 0.4em;box-sizing: border-box;padding-bottom: 0.4em;background-color: white;}#sk-container-id-1 div.sk-label label {font-family: monospace;font-weight: bold;display: inline-block;line-height: 1.2em;}#sk-container-id-1 div.sk-label-container {text-align: center;}#sk-container-id-1 div.sk-container {/* jupyter's `normalize.less` sets `[hidden] { display: none; }` but bootstrap.min.css set `[hidden] { display: none !important; }` so we also need the `!important` here to be able to override the default hidden behavior on the sphinx rendered scikit-learn.org. See: https://github.com/scikit-learn/scikit-learn/issues/21755 */display: inline-block !important;position: relative;}#sk-container-id-1 div.sk-text-repr-fallback {display: none;}</style><div id=\"sk-container-id-1\" class=\"sk-top-container\"><div class=\"sk-text-repr-fallback\"><pre>DecisionTreeRegressor(random_state=1)</pre><b>In a Jupyter environment, please rerun this cell to show the HTML representation or trust the notebook. <br />On GitHub, the HTML representation is unable to render, please try loading this page with nbviewer.org.</b></div><div class=\"sk-container\" hidden><div class=\"sk-item\"><div class=\"sk-estimator sk-toggleable\"><input class=\"sk-toggleable__control sk-hidden--visually\" id=\"sk-estimator-id-1\" type=\"checkbox\" checked><label for=\"sk-estimator-id-1\" class=\"sk-toggleable__label sk-toggleable__label-arrow\">DecisionTreeRegressor</label><div class=\"sk-toggleable__content\"><pre>DecisionTreeRegressor(random_state=1)</pre></div></div></div></div></div>"
      ],
      "text/plain": [
       "DecisionTreeRegressor(random_state=1)"
      ]
     },
     "execution_count": 8,
     "metadata": {},
     "output_type": "execute_result"
    }
   ],
   "source": [
    "from sklearn.tree import DecisionTreeRegressor\n",
    "\n",
    "melbourne_model = DecisionTreeRegressor(random_state=1)\n",
    "\n",
    "melbourne_model.fit(X, y)"
   ]
  },
  {
   "cell_type": "code",
   "execution_count": 9,
   "id": "a1944f55",
   "metadata": {
    "execution": {
     "iopub.execute_input": "2024-06-02T20:01:11.055990Z",
     "iopub.status.busy": "2024-06-02T20:01:11.055082Z",
     "iopub.status.idle": "2024-06-02T20:01:11.067167Z",
     "shell.execute_reply": "2024-06-02T20:01:11.065920Z"
    },
    "papermill": {
     "duration": 0.024693,
     "end_time": "2024-06-02T20:01:11.070040",
     "exception": false,
     "start_time": "2024-06-02T20:01:11.045347",
     "status": "completed"
    },
    "tags": []
   },
   "outputs": [
    {
     "name": "stdout",
     "output_type": "stream",
     "text": [
      "Making predictions for the following 5 houses:\n",
      "   Rooms  Bathroom  Landsize  Lattitude  Longtitude\n",
      "1      2       1.0     156.0   -37.8079    144.9934\n",
      "2      3       2.0     134.0   -37.8093    144.9944\n",
      "4      4       1.0     120.0   -37.8072    144.9941\n",
      "6      3       2.0     245.0   -37.8024    144.9993\n",
      "7      2       1.0     256.0   -37.8060    144.9954\n",
      "The predictions are\n",
      "[1035000. 1465000. 1600000. 1876000. 1636000.]\n"
     ]
    }
   ],
   "source": [
    "print(\"Making predictions for the following 5 houses:\")\n",
    "print(X.head())\n",
    "print(\"The predictions are\")\n",
    "print(melbourne_model.predict(X.head()))"
   ]
  },
  {
   "cell_type": "code",
   "execution_count": 10,
   "id": "31beb9b7",
   "metadata": {
    "execution": {
     "iopub.execute_input": "2024-06-02T20:01:11.089815Z",
     "iopub.status.busy": "2024-06-02T20:01:11.088804Z",
     "iopub.status.idle": "2024-06-02T20:01:11.100673Z",
     "shell.execute_reply": "2024-06-02T20:01:11.099468Z"
    },
    "papermill": {
     "duration": 0.024436,
     "end_time": "2024-06-02T20:01:11.103150",
     "exception": false,
     "start_time": "2024-06-02T20:01:11.078714",
     "status": "completed"
    },
    "tags": []
   },
   "outputs": [
    {
     "data": {
      "text/plain": [
       "1115.7467183128902"
      ]
     },
     "execution_count": 10,
     "metadata": {},
     "output_type": "execute_result"
    }
   ],
   "source": [
    "from sklearn.metrics import mean_absolute_error\n",
    "\n",
    "predicted_home_prices = melbourne_model.predict(X)\n",
    "\n",
    "mean_absolute_error(y, predicted_home_prices)"
   ]
  },
  {
   "cell_type": "markdown",
   "id": "d26c6af5",
   "metadata": {
    "papermill": {
     "duration": 0.008458,
     "end_time": "2024-06-02T20:01:11.120407",
     "exception": false,
     "start_time": "2024-06-02T20:01:11.111949",
     "status": "completed"
    },
    "tags": []
   },
   "source": [
    "In the previous case, the training used all the data to learn, so it is a bad way to train the model becouse we dont have a valid performance check.\n",
    "\n",
    "Now let's separate the base into two groups (training and testing)"
   ]
  },
  {
   "cell_type": "code",
   "execution_count": 11,
   "id": "114b8627",
   "metadata": {
    "execution": {
     "iopub.execute_input": "2024-06-02T20:01:11.139964Z",
     "iopub.status.busy": "2024-06-02T20:01:11.139204Z",
     "iopub.status.idle": "2024-06-02T20:01:11.177912Z",
     "shell.execute_reply": "2024-06-02T20:01:11.176361Z"
    },
    "papermill": {
     "duration": 0.051642,
     "end_time": "2024-06-02T20:01:11.180782",
     "exception": false,
     "start_time": "2024-06-02T20:01:11.129140",
     "status": "completed"
    },
    "tags": []
   },
   "outputs": [
    {
     "name": "stdout",
     "output_type": "stream",
     "text": [
      "271598.0400258231\n"
     ]
    }
   ],
   "source": [
    "from sklearn.model_selection import train_test_split\n",
    "\n",
    "train_X, val_X, train_y, val_y = train_test_split(X, y, random_state = 0)\n",
    "# Define Model\n",
    "melbourne_model = DecisionTreeRegressor(random_state = 0)\n",
    "# Fit Model (treinar)\n",
    "melbourne_model.fit(train_X, train_y)\n",
    "\n",
    "# get predicted values and validation data\n",
    "val_predictions = melbourne_model.predict(val_X)\n",
    "print(mean_absolute_error(val_y, val_predictions))"
   ]
  },
  {
   "cell_type": "code",
   "execution_count": 12,
   "id": "3b6c753f",
   "metadata": {
    "execution": {
     "iopub.execute_input": "2024-06-02T20:01:11.201200Z",
     "iopub.status.busy": "2024-06-02T20:01:11.200434Z",
     "iopub.status.idle": "2024-06-02T20:01:11.207466Z",
     "shell.execute_reply": "2024-06-02T20:01:11.206093Z"
    },
    "papermill": {
     "duration": 0.020038,
     "end_time": "2024-06-02T20:01:11.210068",
     "exception": false,
     "start_time": "2024-06-02T20:01:11.190030",
     "status": "completed"
    },
    "tags": []
   },
   "outputs": [
    {
     "name": "stdout",
     "output_type": "stream",
     "text": [
      "Size of train_x:  (4647, 5)\n",
      "Size of val_x:  (1549, 5)\n",
      "Size of train_y:  (4647,)\n",
      "Size of val_y:  (1549,)\n"
     ]
    }
   ],
   "source": [
    "print('Size of train_x: ', train_X.shape)\n",
    "print('Size of val_x: ', val_X.shape)\n",
    "print('Size of train_y: ', train_y.shape)\n",
    "print('Size of val_y: ', val_y.shape)\n"
   ]
  },
  {
   "cell_type": "code",
   "execution_count": 13,
   "id": "deb57e19",
   "metadata": {
    "execution": {
     "iopub.execute_input": "2024-06-02T20:01:11.230521Z",
     "iopub.status.busy": "2024-06-02T20:01:11.229609Z",
     "iopub.status.idle": "2024-06-02T20:01:11.237164Z",
     "shell.execute_reply": "2024-06-02T20:01:11.235955Z"
    },
    "papermill": {
     "duration": 0.02059,
     "end_time": "2024-06-02T20:01:11.239763",
     "exception": false,
     "start_time": "2024-06-02T20:01:11.219173",
     "status": "completed"
    },
    "tags": []
   },
   "outputs": [],
   "source": [
    "## Now the goal is to make the model more effective by escaping underfiffiting and overfiffiting\n",
    "# To do this we make a function to compare the mean absolute error\n",
    "\n",
    "from sklearn.metrics import mean_absolute_error\n",
    "from sklearn.tree import DecisionTreeRegressor\n",
    "\n",
    "def get_mae(max_leaf_nodes, train_X, val_X, train_y, val_y):\n",
    "    model = DecisionTreeRegressor(max_leaf_nodes=max_leaf_nodes, random_state=0)\n",
    "    model.fit(train_X, train_y)\n",
    "    preds_val = model.predict(val_X)\n",
    "    mae = mean_absolute_error(val_y, preds_val)\n",
    "    return(mae)"
   ]
  },
  {
   "cell_type": "code",
   "execution_count": 14,
   "id": "79cd7012",
   "metadata": {
    "execution": {
     "iopub.execute_input": "2024-06-02T20:01:11.260220Z",
     "iopub.status.busy": "2024-06-02T20:01:11.259101Z",
     "iopub.status.idle": "2024-06-02T20:01:11.340057Z",
     "shell.execute_reply": "2024-06-02T20:01:11.338833Z"
    },
    "papermill": {
     "duration": 0.093846,
     "end_time": "2024-06-02T20:01:11.342727",
     "exception": false,
     "start_time": "2024-06-02T20:01:11.248881",
     "status": "completed"
    },
    "tags": []
   },
   "outputs": [
    {
     "name": "stdout",
     "output_type": "stream",
     "text": [
      "Max leaf node: 5 \t\t Mean Absolute Error: 385696\n",
      "Max leaf node: 50 \t\t Mean Absolute Error: 279794\n",
      "Max leaf node: 500 \t\t Mean Absolute Error: 261718\n",
      "Max leaf node: 5000 \t\t Mean Absolute Error: 271320\n"
     ]
    }
   ],
   "source": [
    "for max_leaf_nodes in [5, 50, 500, 5000]:\n",
    "    my_mae = get_mae(max_leaf_nodes, train_X, val_X, train_y, val_y)\n",
    "    print(\"Max leaf node: %d \\t\\t Mean Absolute Error: %d\" %(max_leaf_nodes, my_mae))"
   ]
  },
  {
   "cell_type": "code",
   "execution_count": 15,
   "id": "0765f887",
   "metadata": {
    "execution": {
     "iopub.execute_input": "2024-06-02T20:01:11.363465Z",
     "iopub.status.busy": "2024-06-02T20:01:11.363050Z",
     "iopub.status.idle": "2024-06-02T20:01:36.768837Z",
     "shell.execute_reply": "2024-06-02T20:01:36.767748Z"
    },
    "papermill": {
     "duration": 25.419559,
     "end_time": "2024-06-02T20:01:36.771600",
     "exception": false,
     "start_time": "2024-06-02T20:01:11.352041",
     "status": "completed"
    },
    "tags": []
   },
   "outputs": [
    {
     "name": "stdout",
     "output_type": "stream",
     "text": [
      "Max leaf node: 790 \t\t Mean Absolute Error: 259946\n"
     ]
    }
   ],
   "source": [
    "mae_lower = None\n",
    "max_leaf_node = None\n",
    "for max_leaf_nodes in range(10, 10000, 10):\n",
    "    my_mae = get_mae(max_leaf_nodes, train_X, val_X, train_y, val_y)\n",
    "    if mae_lower == None or my_mae < mae_lower:\n",
    "        mae_lower = my_mae\n",
    "        max_leaf_node = max_leaf_nodes\n",
    "#     print(\"Max leaf node: %d \\t\\t Mean Absolute Error: %d\" %(max_leaf_nodes, my_mae))\n",
    "print(\"Max leaf node: %d \\t\\t Mean Absolute Error: %d\" %(max_leaf_node, mae_lower))\n"
   ]
  },
  {
   "cell_type": "code",
   "execution_count": 16,
   "id": "0416c88c",
   "metadata": {
    "execution": {
     "iopub.execute_input": "2024-06-02T20:01:36.792323Z",
     "iopub.status.busy": "2024-06-02T20:01:36.791904Z",
     "iopub.status.idle": "2024-06-02T20:01:37.212689Z",
     "shell.execute_reply": "2024-06-02T20:01:37.211364Z"
    },
    "papermill": {
     "duration": 0.433995,
     "end_time": "2024-06-02T20:01:37.215269",
     "exception": false,
     "start_time": "2024-06-02T20:01:36.781274",
     "status": "completed"
    },
    "tags": []
   },
   "outputs": [
    {
     "name": "stdout",
     "output_type": "stream",
     "text": [
      "Max leaf node: 791 \t\t Mean Absolute Error: 259763\n"
     ]
    }
   ],
   "source": [
    "mae_lower = None\n",
    "max_leaf_node = None\n",
    "for max_leaf_nodes in range(780, 800, 1):\n",
    "    my_mae = get_mae(max_leaf_nodes, train_X, val_X, train_y, val_y)\n",
    "    if mae_lower == None or my_mae < mae_lower:\n",
    "        mae_lower = my_mae\n",
    "        max_leaf_node = max_leaf_nodes\n",
    "#     print(\"Max leaf node: %d \\t\\t Mean Absolute Error: %d\" %(max_leaf_nodes, my_mae))\n",
    "print(\"Max leaf node: %d \\t\\t Mean Absolute Error: %d\" %(max_leaf_node, mae_lower))\n"
   ]
  },
  {
   "cell_type": "code",
   "execution_count": 17,
   "id": "84122ab9",
   "metadata": {
    "execution": {
     "iopub.execute_input": "2024-06-02T20:01:37.236292Z",
     "iopub.status.busy": "2024-06-02T20:01:37.235853Z",
     "iopub.status.idle": "2024-06-02T20:01:37.314987Z",
     "shell.execute_reply": "2024-06-02T20:01:37.313743Z"
    },
    "papermill": {
     "duration": 0.092829,
     "end_time": "2024-06-02T20:01:37.317494",
     "exception": false,
     "start_time": "2024-06-02T20:01:37.224665",
     "status": "completed"
    },
    "tags": []
   },
   "outputs": [
    {
     "data": {
      "text/plain": [
       "500"
      ]
     },
     "execution_count": 17,
     "metadata": {},
     "output_type": "execute_result"
    }
   ],
   "source": [
    "## That is another way to make that loop\n",
    "\n",
    "candidate_max_leaf_nodes = [5,50,500,5000]\n",
    "scores = {leaf_size: get_mae(leaf_size, train_X, val_X, train_y, val_y) for leaf_size in candidate_max_leaf_nodes}\n",
    "best_tree_size = min(scores, key=scores.get)\n",
    "\n",
    "best_tree_size"
   ]
  },
  {
   "cell_type": "markdown",
   "id": "c515332d",
   "metadata": {
    "papermill": {
     "duration": 0.00923,
     "end_time": "2024-06-02T20:01:37.336850",
     "exception": false,
     "start_time": "2024-06-02T20:01:37.327620",
     "status": "completed"
    },
    "tags": []
   },
   "source": [
    "# Random Forests"
   ]
  },
  {
   "cell_type": "code",
   "execution_count": 18,
   "id": "294be089",
   "metadata": {
    "execution": {
     "iopub.execute_input": "2024-06-02T20:01:37.357662Z",
     "iopub.status.busy": "2024-06-02T20:01:37.357203Z",
     "iopub.status.idle": "2024-06-02T20:01:39.126129Z",
     "shell.execute_reply": "2024-06-02T20:01:39.124577Z"
    },
    "papermill": {
     "duration": 1.782654,
     "end_time": "2024-06-02T20:01:39.128954",
     "exception": false,
     "start_time": "2024-06-02T20:01:37.346300",
     "status": "completed"
    },
    "tags": []
   },
   "outputs": [
    {
     "name": "stdout",
     "output_type": "stream",
     "text": [
      "207190.6873773146\n"
     ]
    }
   ],
   "source": [
    "from sklearn.ensemble import RandomForestRegressor\n",
    "from sklearn.metrics import mean_absolute_error\n",
    "\n",
    "forest_model = RandomForestRegressor(random_state=1)\n",
    "forest_model.fit(train_X, train_y)\n",
    "melb_preds = forest_model.predict(val_X)\n",
    "print(mean_absolute_error(val_y, melb_preds))"
   ]
  }
 ],
 "metadata": {
  "kaggle": {
   "accelerator": "none",
   "dataSources": [
    {
     "datasetId": 2709,
     "sourceId": 38454,
     "sourceType": "datasetVersion"
    }
   ],
   "dockerImageVersionId": 30715,
   "isGpuEnabled": false,
   "isInternetEnabled": false,
   "language": "python",
   "sourceType": "notebook"
  },
  "kernelspec": {
   "display_name": "Python 3",
   "language": "python",
   "name": "python3"
  },
  "language_info": {
   "codemirror_mode": {
    "name": "ipython",
    "version": 3
   },
   "file_extension": ".py",
   "mimetype": "text/x-python",
   "name": "python",
   "nbconvert_exporter": "python",
   "pygments_lexer": "ipython3",
   "version": "3.10.13"
  },
  "papermill": {
   "default_parameters": {},
   "duration": 34.869645,
   "end_time": "2024-06-02T20:01:39.760472",
   "environment_variables": {},
   "exception": null,
   "input_path": "__notebook__.ipynb",
   "output_path": "__notebook__.ipynb",
   "parameters": {},
   "start_time": "2024-06-02T20:01:04.890827",
   "version": "2.5.0"
  }
 },
 "nbformat": 4,
 "nbformat_minor": 5
}
